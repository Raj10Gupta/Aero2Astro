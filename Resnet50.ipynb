{
 "cells": [
  {
   "cell_type": "code",
   "execution_count": 19,
   "metadata": {
    "colab": {
     "base_uri": "https://localhost:8080/"
    },
    "id": "lyntnoFYRYQo",
    "outputId": "9fcc24ee-ce7f-49bd-c861-bef770a40844"
   },
   "outputs": [
    {
     "name": "stdout",
     "output_type": "stream",
     "text": [
      "Mounted at /content/drive\n"
     ]
    }
   ],
   "source": [
    "from google.colab import drive\n",
    "drive.mount('/content/drive')"
   ]
  },
  {
   "cell_type": "code",
   "execution_count": 26,
   "metadata": {
    "id": "wbvq1pbdTs5e"
   },
   "outputs": [],
   "source": [
    "orig = cv.imread(\"/content/drive/My Drive/food/training/food/856.jpg\") "
   ]
  },
  {
   "cell_type": "code",
   "execution_count": 27,
   "metadata": {
    "colab": {
     "base_uri": "https://localhost:8080/"
    },
    "id": "_wVfLnqwZs6P",
    "outputId": "2afa6d95-abb0-4643-f5e2-2f07aca5924b"
   },
   "outputs": [
    {
     "data": {
      "text/plain": [
       "(1, 7, 7, 2048)"
      ]
     },
     "execution_count": 27,
     "metadata": {
      "tags": []
     },
     "output_type": "execute_result"
    }
   ],
   "source": [
    "# Convert image to RGB from BGR (another way is to use \"image = image[:, :, ::-1]\" code)\n",
    "orig = cv.cvtColor(orig, cv.COLOR_BGR2RGB)\n",
    "\n",
    "# Resize image to 224x224 size\n",
    "image = cv.resize(orig, (224, 224)).reshape(-1, 224, 224, 3)\n",
    "\n",
    "# We need to preprocess imageto fulfill ResNet50 requirements\n",
    "image = preprocess_input(image)\n",
    "\n",
    "# Extracting our features\n",
    "features = model.predict(image)\n",
    "\n",
    "features.shape\n",
    "\n",
    "n_features = features.shape[-1]\n",
    "\n",
    "fig = plt.figure(figsize = (17, 8))\n",
    "gs = gridspec.GridSpec(1, 2, figure = fig)\n",
    "sub_gs = gridspec.GridSpecFromSubplotSpec(3, 3, subplot_spec=gs[1])\n",
    "\n",
    "ax1 = fig.add_subplot(gs[0])\n",
    "ax1.imshow(orig)\n",
    "\n",
    "for i in range(3):\n",
    "    for j in range(3):\n",
    "        ax2 = fig.add_subplot(sub_gs[i, j])\n",
    "        plt.axis('off')        \n",
    "        plt.imshow(features[0, :, :, np.random.randint(n_features)], cmap = 'gray')"
   ]
  },
  {
   "cell_type": "code",
   "execution_count": 30,
   "metadata": {
    "id": "BT9WEcWCaCHk"
   },
   "outputs": [],
   "source": [
    "# Path to splits\n",
    "path = '/content/drive/My Drive/food'\n",
    "\n",
    "# List of splts: ['training', 'validation', 'evaluation']\n",
    "sets = os.listdir(path)\n",
    "\n",
    "# Arrays to store data\n",
    "train_X, train_Y = ([], [])\n",
    "val_X, val_Y = ([], [])\n",
    "eval_X, eval_Y = ([], [])\n",
    "\n",
    "data = [(train_X, train_Y), (val_X, val_Y), (eval_X, eval_Y)]\n",
    "\n",
    "# Loop through all splits\n",
    "for s, d in (zip(sets, data)):\n",
    "    # Defining path to categories ['non_food', 'food']\n",
    "    path_to_cat = os.path.join(path, s)\n",
    "    \n",
    "    # Loop through categories in split\n",
    "    for cat in os.listdir(path_to_cat):\n",
    "        # Defining path to images in category\n",
    "        path_to_images = os.path.join(path_to_cat, cat)\n",
    "        \n",
    "        # Defining labels\n",
    "        if cat == 'food':\n",
    "            label = 1\n",
    "        else:\n",
    "            label = 0\n",
    "        \n",
    "        # Loop through images in category\n",
    "        for i in os.listdir(path_to_images):\n",
    "            # Path to image\n",
    "            image_path = os.path.join(path_to_images, i)\n",
    "            \n",
    "            # Reading and preprocessing image\n",
    "            image = cv.imread(image_path)\n",
    "            image = cv.cvtColor(image, cv.COLOR_BGR2RGB)\n",
    "            image = cv.resize(image, (224, 224)).reshape(-1, 224, 224, 3)\n",
    "            image = preprocess_input(image)\n",
    "            \n",
    "            # Extracting features\n",
    "            features = model.predict(image).reshape(100352)\n",
    "            \n",
    "            # Store features and label in our lists\n",
    "            d[0].append(features)\n",
    "            d[1].append(label)\n"
   ]
  },
  {
   "cell_type": "code",
   "execution_count": 31,
   "metadata": {
    "id": "nyAkdCB6kD7m"
   },
   "outputs": [],
   "source": [
    "# Shuffle data in each split\n",
    "random_state = 666\n",
    "train_X, train_Y = shuffle(train_X, train_Y, random_state = random_state)\n",
    "val_X, val_Y = shuffle(val_X, val_Y, random_state = random_state)\n",
    "eval_X, eval_Y = shuffle(eval_X, eval_Y, random_state = random_state)"
   ]
  },
  {
   "cell_type": "code",
   "execution_count": 32,
   "metadata": {
    "id": "Y92kgrAskHoH"
   },
   "outputs": [],
   "source": [
    "# Convert data to numpy arrays\n",
    "train_X = np.array(train_X)\n",
    "train_Y = np.array(train_Y)\n",
    "\n",
    "val_X = np.array(val_X)\n",
    "val_Y = np.array(val_Y)\n",
    "\n",
    "eval_X = np.array(eval_X)\n",
    "eval_Y = np.array(eval_Y)"
   ]
  },
  {
   "cell_type": "code",
   "execution_count": 35,
   "metadata": {
    "colab": {
     "base_uri": "https://localhost:8080/"
    },
    "id": "SY_-K7cKkMKG",
    "outputId": "b83d7b61-8a36-47f5-b45e-bf5147de24cd"
   },
   "outputs": [
    {
     "name": "stdout",
     "output_type": "stream",
     "text": [
      "Epoch 1/10\n",
      "16/16 [==============================] - 5s 286ms/step - loss: 3.5555 - accuracy: 0.7564 - val_loss: 1.5104 - val_accuracy: 0.9760\n",
      "\n",
      "Epoch 00001: val_accuracy improved from -inf to 0.97600, saving model to best_model.hdf5\n",
      "Epoch 2/10\n",
      "16/16 [==============================] - 4s 272ms/step - loss: 0.1488 - accuracy: 0.9935 - val_loss: 1.3240 - val_accuracy: 0.9670\n",
      "\n",
      "Epoch 00002: val_accuracy did not improve from 0.97600\n",
      "Epoch 3/10\n",
      "16/16 [==============================] - 4s 270ms/step - loss: 0.1160 - accuracy: 0.9919 - val_loss: 1.6534 - val_accuracy: 0.9780\n",
      "\n",
      "Epoch 00003: val_accuracy improved from 0.97600 to 0.97800, saving model to best_model.hdf5\n",
      "Epoch 4/10\n",
      "16/16 [==============================] - 4s 271ms/step - loss: 8.9948e-04 - accuracy: 0.9998 - val_loss: 1.1889 - val_accuracy: 0.9790\n",
      "\n",
      "Epoch 00004: val_accuracy improved from 0.97800 to 0.97900, saving model to best_model.hdf5\n",
      "Epoch 5/10\n",
      "16/16 [==============================] - 4s 273ms/step - loss: 0.0062 - accuracy: 0.9998 - val_loss: 2.1619 - val_accuracy: 0.9740\n",
      "\n",
      "Epoch 00005: val_accuracy did not improve from 0.97900\n",
      "Epoch 6/10\n",
      "16/16 [==============================] - 4s 271ms/step - loss: 0.0156 - accuracy: 0.9993 - val_loss: 2.4248 - val_accuracy: 0.9770\n",
      "\n",
      "Epoch 00006: val_accuracy did not improve from 0.97900\n",
      "Epoch 7/10\n",
      "16/16 [==============================] - 4s 271ms/step - loss: 0.0034 - accuracy: 0.9998 - val_loss: 2.1975 - val_accuracy: 0.9780\n",
      "\n",
      "Epoch 00007: val_accuracy did not improve from 0.97900\n",
      "Epoch 8/10\n",
      "16/16 [==============================] - 4s 271ms/step - loss: 0.0080 - accuracy: 0.9997 - val_loss: 1.6279 - val_accuracy: 0.9770\n",
      "\n",
      "Epoch 00008: val_accuracy did not improve from 0.97900\n",
      "Epoch 9/10\n",
      "16/16 [==============================] - 4s 272ms/step - loss: 4.4265e-13 - accuracy: 1.0000 - val_loss: 2.1898 - val_accuracy: 0.9730\n",
      "\n",
      "Epoch 00009: val_accuracy did not improve from 0.97900\n",
      "Epoch 10/10\n",
      "16/16 [==============================] - 4s 270ms/step - loss: 0.0040 - accuracy: 0.9998 - val_loss: 1.8514 - val_accuracy: 0.9750\n",
      "\n",
      "Epoch 00010: val_accuracy did not improve from 0.97900\n"
     ]
    },
    {
     "data": {
      "text/plain": [
       "<keras.callbacks.History at 0x7fa3b9f10a50>"
      ]
     },
     "execution_count": 35,
     "metadata": {
      "tags": []
     },
     "output_type": "execute_result"
    }
   ],
   "source": [
    "# Creating model\n",
    "# Number of nodes were defined using rule: \n",
    "# take the square root of the previous number of nodes in the layer and then find the closest power of 2\n",
    "# (Before FC layers in ResNet50 we have 7*7*2048 = 100352 nodes (after flatten layer), so if we take square root from\n",
    "# this number we get 316.78 and closes power of 2 is 256, it's number of nodes in 1st FC layer in our network, \n",
    "# to define number of nodes in second layer we are getting swuare root from 256 = 16)\n",
    "# Number of nodes in last layer = 1, because it's binary classification problem and our labels have only two values 0 and 1\n",
    "\n",
    "model = Sequential()\n",
    "model.add(Dense(256, input_shape = (100352,), activation = 'relu', kernel_initializer = 'he_normal'))\n",
    "model.add(Dense(16, activation = 'relu', kernel_initializer = 'he_normal'))\n",
    "model.add(Dense(1, activation = 'sigmoid'))\n",
    "\n",
    "# Checkpoint to save best model\n",
    "checkpoint = ModelCheckpoint('best_model.hdf5', monitor = 'val_accuracy', verbose = 1, save_best_only = True)\n",
    "\n",
    "model.compile(optimizer = 'adam', loss = 'binary_crossentropy', metrics = ['accuracy'])\n",
    "model.fit(train_X, train_Y, batch_size = 64, epochs = 10, validation_data = (val_X, val_Y), callbacks = [checkpoint])"
   ]
  },
  {
   "cell_type": "code",
   "execution_count": 36,
   "metadata": {
    "colab": {
     "base_uri": "https://localhost:8080/",
     "height": 320
    },
    "id": "_WFN3oIYlDNB",
    "outputId": "95b50506-d399-4a9a-a19e-c112afee8089"
   },
   "outputs": [
    {
     "data": {
      "image/png": "[encoded data removed]",
      "text/plain": [
       "<Figure size 576x360 with 1 Axes>"
      ]
     },
     "metadata": {
      "needs_background": "light",
      "tags": []
     },
     "output_type": "display_data"
    }
   ],
   "source": [
    "# Plot losses and accuracies\n",
    "history = model.history.history\n",
    "\n",
    "fig = plt.figure(figsize = (8, 5))\n",
    "plt.plot(history['accuracy'], label = 'acc')\n",
    "plt.plot(history['val_accuracy'], label = 'val_acc')\n",
    "plt.plot(history['loss'], label = 'acc')\n",
    "plt.plot(history['val_loss'], label = 'acc')\n",
    "plt.grid()\n",
    "plt.legend()\n",
    "plt.show()"
   ]
  },
  {
   "cell_type": "code",
   "execution_count": 37,
   "metadata": {
    "colab": {
     "base_uri": "https://localhost:8080/"
    },
    "id": "NctXeq3nlI8S",
    "outputId": "6e30cb46-007e-4f7b-9345-0c14bfb4c259"
   },
   "outputs": [
    {
     "name": "stdout",
     "output_type": "stream",
     "text": [
      "94/94 [==============================] - 4s 46ms/step - loss: 0.7976 - accuracy: 0.9833\n"
     ]
    },
    {
     "data": {
      "text/plain": [
       "[0.7975539565086365, 0.9833333492279053]"
      ]
     },
     "execution_count": 37,
     "metadata": {
      "tags": []
     },
     "output_type": "execute_result"
    }
   ],
   "source": [
    "# Loading best model and evaluate it\n",
    "# Here I want to compare keras.evaluate and sklearn.accuracy_score methods\n",
    "model.load_weights('best_model.hdf5')\n",
    "model.evaluate(eval_X, eval_Y)"
   ]
  },
  {
   "cell_type": "code",
   "execution_count": 38,
   "metadata": {
    "colab": {
     "base_uri": "https://localhost:8080/",
     "height": 300
    },
    "id": "wr1TjiwWlPqL",
    "outputId": "e07d2c92-4aab-4bcb-a71d-e38fe2a4367a"
   },
   "outputs": [
    {
     "name": "stdout",
     "output_type": "stream",
     "text": [
      "Accuracy: 98.3333%\n"
     ]
    },
    {
     "data": {
      "text/plain": [
       "<matplotlib.axes._subplots.AxesSubplot at 0x7fa3b4423850>"
      ]
     },
     "execution_count": 38,
     "metadata": {
      "tags": []
     },
     "output_type": "execute_result"
    },
    {
     "data": {
      "image/png": "[encoded data removed]",
      "text/plain": [
       "<Figure size 432x288 with 2 Axes>"
      ]
     },
     "metadata": {
      "needs_background": "light",
      "tags": []
     },
     "output_type": "display_data"
    }
   ],
   "source": [
    "# Making predictions using evaluation dataset\n",
    "preds = model.predict(eval_X)\n",
    "\n",
    "# If our prediction more than 0.5 - we round it to 1, else to 0\n",
    "preds = [1 if i > 0.5 else 0 for i in preds]\n",
    "\n",
    "# Calculating accuracy score\n",
    "accuracy = accuracy_score(eval_Y, preds)\n",
    "print(f'Accuracy: {round(accuracy * 100, 4)}%')\n",
    "\n",
    "# Plotting confusion matrix\n",
    "l = ['non_food', 'food']\n",
    "confusion = confusion_matrix(eval_Y, preds)\n",
    "sns.heatmap(confusion, square = True, fmt = 'd', xticklabels = l, yticklabels = l, annot = True)"
   ]
  }
 ],
 "metadata": {
  "colab": {
   "collapsed_sections": [],
   "name": "Untitled4.ipynb",
   "provenance": []
  },
  "kernelspec": {
   "display_name": "Python 3",
   "language": "python",
   "name": "python3"
  },
  "language_info": {
   "codemirror_mode": {
    "name": "ipython",
    "version": 3
   },
   "file_extension": ".py",
   "mimetype": "text/x-python",
   "name": "python",
   "nbconvert_exporter": "python",
   "pygments_lexer": "ipython3",
   "version": "3.8.5"
  }
 },
 "nbformat": 4,
 "nbformat_minor": 1
}
