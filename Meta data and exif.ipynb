{
 "cells": [
  {
   "cell_type": "code",
   "execution_count": 26,
   "metadata": {},
   "outputs": [],
   "source": [
    "from PIL import Image\n",
    "\n",
    "def get_exif(filename):\n",
    "    image = Image.open(filename)\n",
    "    image.verify()\n",
    "    return image._getexif()\n",
    "\n",
    "exif = get_exif('IX-11-01917_0004_0001.JPG')\n"
   ]
  },
  {
   "cell_type": "code",
   "execution_count": 31,
   "metadata": {},
   "outputs": [
    {
     "data": {
      "text/plain": [
       "{36864: b'0230',\n",
       " 37378: 4.97,\n",
       " 36867: '2018:09:02 05:23:42',\n",
       " 37380: 0.0,\n",
       " 37381: 2.97,\n",
       " 37382: 4294967.295,\n",
       " 37383: 1,\n",
       " 37384: 9,\n",
       " 37385: 16,\n",
       " 37386: 18.5,\n",
       " 40962: 6000,\n",
       " 40963: 4000,\n",
       " 41483: nan,\n",
       " 41486: 2558.0,\n",
       " 41487: 2558.0,\n",
       " 41488: 3,\n",
       " 37521: '00\\x00\\x00\\x00\\x00\\x00\\x00\\x00\\x00\\x00\\x00\\x00\\x00\\x00\\x00\\x00\\x00\\x00',\n",
       " 11: 'eMotion 3.7.0b2',\n",
       " 271: 'senseFly',\n",
       " 272: 'senseFly Aeria X',\n",
       " 50708: 'senseFly Aeria X',\n",
       " 33434: 0.0005,\n",
       " 282: 72.0,\n",
       " 283: 72.0,\n",
       " 33437: 5.6}"
      ]
     },
     "execution_count": 31,
     "metadata": {},
     "output_type": "execute_result"
    }
   ],
   "source": [
    "dict(list(exif.items())[0:25])"
   ]
  },
  {
   "cell_type": "code",
   "execution_count": 29,
   "metadata": {},
   "outputs": [],
   "source": [
    "from PIL.ExifTags import TAGS\n",
    "\n",
    "def get_labeled_exif(exif):\n",
    "    labeled = {}\n",
    "    for (key, val) in exif.items():\n",
    "        labeled[TAGS.get(key)] = val\n",
    "\n",
    "    return labeled\n",
    "\n",
    "exif = get_exif('IX-11-01917_0004_0001.JPG')\n",
    "labeled = get_labeled_exif(exif)\n"
   ]
  },
  {
   "cell_type": "code",
   "execution_count": 30,
   "metadata": {},
   "outputs": [
    {
     "data": {
      "text/plain": [
       "{'ExifVersion': b'0230',\n",
       " 'ApertureValue': 4.97,\n",
       " 'DateTimeOriginal': '2018:09:02 05:23:42',\n",
       " 'ExposureBiasValue': 0.0,\n",
       " 'MaxApertureValue': 2.97,\n",
       " 'SubjectDistance': 4294967.295,\n",
       " 'MeteringMode': 1,\n",
       " 'LightSource': 9,\n",
       " 'Flash': 16,\n",
       " 'FocalLength': 18.5,\n",
       " 'ExifImageWidth': 6000,\n",
       " 'ExifImageHeight': 4000,\n",
       " 'FlashEnergy': nan,\n",
       " 'FocalPlaneXResolution': 2558.0,\n",
       " 'FocalPlaneYResolution': 2558.0,\n",
       " 'FocalPlaneResolutionUnit': 3,\n",
       " 'SubsecTimeOriginal': '00\\x00\\x00\\x00\\x00\\x00\\x00\\x00\\x00\\x00\\x00\\x00\\x00\\x00\\x00\\x00\\x00\\x00',\n",
       " 'ProcessingSoftware': 'eMotion 3.7.0b2',\n",
       " 'Make': 'senseFly',\n",
       " 'Model': 'senseFly Aeria X'}"
      ]
     },
     "execution_count": 30,
     "metadata": {},
     "output_type": "execute_result"
    }
   ],
   "source": [
    "dict(list(labeled.items())[0:20])"
   ]
  },
  {
   "cell_type": "code",
   "execution_count": 4,
   "metadata": {},
   "outputs": [
    {
     "name": "stdout",
     "output_type": "stream",
     "text": [
      "{'GPSVersionID': b'\\x02\\x03\\x00\\x00', 'GPSLatitudeRef': 'N', 'GPSLatitude': (14.0, 3.0, 52.645639), 'GPSLongitudeRef': 'E', 'GPSLongitude': (100.0, 37.0, 5.068784), 'GPSAltitudeRef': b'\\x00', 'GPSAltitude': 254.834, 'GPSTimeStamp': (5.0, 23.0, 43.139), 'GPSStatus': 'A', 'GPSMapDatum': 'WGS-84\\x00\\x00\\x00\\x00\\x00\\x00\\x00\\x00\\x00\\x00\\x00\\x00\\x00', 'GPSDateStamp': '2018:09:02'}\n"
     ]
    }
   ],
   "source": [
    "from PIL.ExifTags import GPSTAGS\n",
    "\n",
    "def get_geotagging(exif):\n",
    "    if not exif:\n",
    "        raise ValueError(\"No EXIF metadata found\")\n",
    "\n",
    "    geotagging = {}\n",
    "    for (idx, tag) in TAGS.items():\n",
    "        if tag == 'GPSInfo':\n",
    "            if idx not in exif:\n",
    "                raise ValueError(\"No EXIF geotagging found\")\n",
    "\n",
    "            for (key, val) in GPSTAGS.items():\n",
    "                if key in exif[idx]:\n",
    "                    geotagging[val] = exif[idx][key]\n",
    "\n",
    "    return geotagging\n",
    "\n",
    "exif = get_exif('IX-11-01917_0004_0001.JPG')\n",
    "geotags = get_geotagging(exif)\n",
    "print(geotags)"
   ]
  },
  {
   "cell_type": "code",
   "execution_count": 7,
   "metadata": {},
   "outputs": [
    {
     "name": "stdout",
     "output_type": "stream",
     "text": [
      "(14.06462, 100.61807)\n"
     ]
    }
   ],
   "source": [
    "def get_decimal_from_dms(dms, ref):\n",
    "\n",
    "    degrees = dms[0]\n",
    "    minutes = dms[1] / 60.0\n",
    "    seconds = dms[2] / 3600.0\n",
    "\n",
    "    if ref in ['S', 'W']:\n",
    "        degrees = -degrees\n",
    "        minutes = -minutes\n",
    "        seconds = -seconds\n",
    "\n",
    "    return round(degrees + minutes + seconds, 5)\n",
    "\n",
    "def get_coordinates(geotags):\n",
    "    lat = get_decimal_from_dms(geotags['GPSLatitude'], geotags['GPSLatitudeRef'])\n",
    "\n",
    "    lon = get_decimal_from_dms(geotags['GPSLongitude'], geotags['GPSLongitudeRef'])\n",
    "\n",
    "    return (lat,lon)\n",
    "\n",
    "\n",
    "exif = get_exif('IX-11-01917_0004_0001.JPG')\n",
    "geotags = get_geotagging(exif)\n",
    "print(get_coordinates(geotags))"
   ]
  },
  {
   "cell_type": "code",
   "execution_count": 12,
   "metadata": {},
   "outputs": [
    {
     "name": "stdout",
     "output_type": "stream",
     "text": [
      "-f\n",
      "C:\\Users\\rutuj\\AppData\\Roaming\\jupyter\\runtime\\kernel-418b2ae1-fb69-4f5b-a128-e9d3c0798932.json\n"
     ]
    }
   ],
   "source": [
    "import sys\n",
    "from PIL import Image\n",
    "\n",
    "for filename in sys.argv[1:]:\n",
    "    print(filename)\n",
    "\n",
    "    image = Image.open('IX-11-01917_0004_0001.JPG')\n",
    "    image_clean = Image.new(image.mode, image.size)\n",
    "    image_clean.putdata(list(image.getdata()))\n",
    "    image_clean.save('clean_' + 'IX-11-01917_0004_0001.JPG')"
   ]
  }
 ],
 "metadata": {
  "kernelspec": {
   "display_name": "Python 3",
   "language": "python",
   "name": "python3"
  },
  "language_info": {
   "codemirror_mode": {
    "name": "ipython",
    "version": 3
   },
   "file_extension": ".py",
   "mimetype": "text/x-python",
   "name": "python",
   "nbconvert_exporter": "python",
   "pygments_lexer": "ipython3",
   "version": "3.8.5"
  }
 },
 "nbformat": 4,
 "nbformat_minor": 4
}
