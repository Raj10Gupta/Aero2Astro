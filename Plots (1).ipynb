{
  "nbformat": 4,
  "nbformat_minor": 0,
  "metadata": {
    "colab": {
      "name": "Plots.ipynb",
      "provenance": [],
      "collapsed_sections": []
    },
    "kernelspec": {
      "name": "python3",
      "display_name": "Python 3"
    },
    "language_info": {
      "name": "python"
    }
  },
  "cells": [
    {
      "cell_type": "code",
      "metadata": {
        "id": "TawUfS8U5M_k"
      },
      "source": [
        "import pandas as pd\n",
        "import matplotlib.pyplot as plt\n",
        "import numpy as np"
      ],
      "execution_count": null,
      "outputs": []
    },
    {
      "cell_type": "code",
      "metadata": {
        "id": "1Dwj0uzp5Jnx"
      },
      "source": [
        "df1=pd.read_csv('/content/Industrial(FASTBRISK)(45)(0.50).csv')"
      ],
      "execution_count": null,
      "outputs": []
    },
    {
      "cell_type": "code",
      "metadata": {
        "id": "dEO_68muTK3S"
      },
      "source": [
        "df1['ParameterName'] = \"A\""
      ],
      "execution_count": null,
      "outputs": []
    },
    {
      "cell_type": "code",
      "metadata": {
        "id": "SldyH5BgujPF"
      },
      "source": [
        "df1['Parameter'] = 'Industrial:Threshl=45;Octaves=8'"
      ],
      "execution_count": null,
      "outputs": []
    },
    {
      "cell_type": "code",
      "metadata": {
        "id": "ypvx7rKkJ_zd"
      },
      "source": [
        "df2=pd.read_csv('/content/Industrial(FASTBRISK)(55)(0.50).csv')"
      ],
      "execution_count": null,
      "outputs": []
    },
    {
      "cell_type": "code",
      "metadata": {
        "id": "dRBjSmstumFE"
      },
      "source": [
        "df2['Parameter'] = 'BRISK:Threshl=55;Octaves=8'"
      ],
      "execution_count": null,
      "outputs": []
    },
    {
      "cell_type": "code",
      "metadata": {
        "id": "QVyAQGV5VdZ4"
      },
      "source": [
        "df2['ParameterName'] = \"B\""
      ],
      "execution_count": null,
      "outputs": []
    },
    {
      "cell_type": "code",
      "metadata": {
        "id": "ezEncKgzJ_nf"
      },
      "source": [
        "df3=pd.read_csv('/content/Industrial(FASTBRISK)(65)(0.50).csv')"
      ],
      "execution_count": null,
      "outputs": []
    },
    {
      "cell_type": "code",
      "metadata": {
        "id": "lSogUQCAWS94"
      },
      "source": [
        "df3['ParameterName'] = \"C\""
      ],
      "execution_count": null,
      "outputs": []
    },
    {
      "cell_type": "code",
      "metadata": {
        "id": "60_xUSsSusoG"
      },
      "source": [
        "df3['Parameter'] = 'BRISK:Threshl=75;Octaves=8'"
      ],
      "execution_count": null,
      "outputs": []
    },
    {
      "cell_type": "code",
      "metadata": {
        "id": "E12FC_MXLD2Q"
      },
      "source": [
        "df=pd.concat([df1, df2, df3])"
      ],
      "execution_count": null,
      "outputs": []
    },
    {
      "cell_type": "code",
      "metadata": {
        "id": "QEfaGfQXMYDt"
      },
      "source": [
        "df=df.loc[(df['Detector/Descriptor'] == \"BRISK+FREAK\")]"
      ],
      "execution_count": null,
      "outputs": []
    },
    {
      "cell_type": "code",
      "metadata": {
        "id": "Nh0wR3SVT3St"
      },
      "source": [
        "df_match = pd.DataFrame(data=df)"
      ],
      "execution_count": null,
      "outputs": []
    },
    {
      "cell_type": "code",
      "metadata": {
        "colab": {
          "base_uri": "https://localhost:8080/",
          "height": 602
        },
        "id": "5XeHSvKurrPi",
        "outputId": "bff9ef38-8c2d-4d01-f792-19ae651984c0"
      },
      "source": [
        "df_match"
      ],
      "execution_count": null,
      "outputs": [
        {
          "output_type": "execute_result",
          "data": {
            "text/html": [
              "<div>\n",
              "<style scoped>\n",
              "    .dataframe tbody tr th:only-of-type {\n",
              "        vertical-align: middle;\n",
              "    }\n",
              "\n",
              "    .dataframe tbody tr th {\n",
              "        vertical-align: top;\n",
              "    }\n",
              "\n",
              "    .dataframe thead th {\n",
              "        text-align: right;\n",
              "    }\n",
              "</style>\n",
              "<table border=\"1\" class=\"dataframe\">\n",
              "  <thead>\n",
              "    <tr style=\"text-align: right;\">\n",
              "      <th></th>\n",
              "      <th>Unnamed: 0</th>\n",
              "      <th>Dataset</th>\n",
              "      <th>Number of Total Matches</th>\n",
              "      <th>Detector/Descriptor</th>\n",
              "      <th>Number of Good Matches</th>\n",
              "      <th>Recall Rate of Matches</th>\n",
              "      <th>1 - Precision Rate of Matches</th>\n",
              "      <th>F-Score</th>\n",
              "      <th>ParameterName</th>\n",
              "      <th>Parameter</th>\n",
              "    </tr>\n",
              "  </thead>\n",
              "  <tbody>\n",
              "    <tr>\n",
              "      <th>0</th>\n",
              "      <td>0</td>\n",
              "      <td>MAP(FASTBRISK)(45)(0.50)</td>\n",
              "      <td>1688.282828</td>\n",
              "      <td>BRISK+FREAK</td>\n",
              "      <td>35.373737</td>\n",
              "      <td>0.020952</td>\n",
              "      <td>0.979048</td>\n",
              "      <td>0.020952</td>\n",
              "      <td>A</td>\n",
              "      <td>BRISK:Threshl=45;Octaves=8</td>\n",
              "    </tr>\n",
              "    <tr>\n",
              "      <th>1</th>\n",
              "      <td>1</td>\n",
              "      <td>MAP(FASTBRISK)(45)(0.50)</td>\n",
              "      <td>1715.393939</td>\n",
              "      <td>BRISK+FREAK</td>\n",
              "      <td>36.676768</td>\n",
              "      <td>0.021381</td>\n",
              "      <td>0.978619</td>\n",
              "      <td>0.021381</td>\n",
              "      <td>A</td>\n",
              "      <td>BRISK:Threshl=45;Octaves=8</td>\n",
              "    </tr>\n",
              "    <tr>\n",
              "      <th>2</th>\n",
              "      <td>2</td>\n",
              "      <td>MAP(FASTBRISK)(45)(0.50)</td>\n",
              "      <td>1614.181818</td>\n",
              "      <td>BRISK+FREAK</td>\n",
              "      <td>37.151515</td>\n",
              "      <td>0.023016</td>\n",
              "      <td>0.976984</td>\n",
              "      <td>0.023016</td>\n",
              "      <td>A</td>\n",
              "      <td>BRISK:Threshl=45;Octaves=8</td>\n",
              "    </tr>\n",
              "    <tr>\n",
              "      <th>3</th>\n",
              "      <td>3</td>\n",
              "      <td>MAP(FASTBRISK)(45)(0.50)</td>\n",
              "      <td>1554.535354</td>\n",
              "      <td>BRISK+FREAK</td>\n",
              "      <td>35.191919</td>\n",
              "      <td>0.022638</td>\n",
              "      <td>0.977362</td>\n",
              "      <td>0.022638</td>\n",
              "      <td>A</td>\n",
              "      <td>BRISK:Threshl=45;Octaves=8</td>\n",
              "    </tr>\n",
              "    <tr>\n",
              "      <th>4</th>\n",
              "      <td>4</td>\n",
              "      <td>MAP(FASTBRISK)(45)(0.50)</td>\n",
              "      <td>1475.696970</td>\n",
              "      <td>BRISK+FREAK</td>\n",
              "      <td>36.424242</td>\n",
              "      <td>0.024683</td>\n",
              "      <td>0.975317</td>\n",
              "      <td>0.024683</td>\n",
              "      <td>A</td>\n",
              "      <td>BRISK:Threshl=45;Octaves=8</td>\n",
              "    </tr>\n",
              "    <tr>\n",
              "      <th>...</th>\n",
              "      <td>...</td>\n",
              "      <td>...</td>\n",
              "      <td>...</td>\n",
              "      <td>...</td>\n",
              "      <td>...</td>\n",
              "      <td>...</td>\n",
              "      <td>...</td>\n",
              "      <td>...</td>\n",
              "      <td>...</td>\n",
              "      <td>...</td>\n",
              "    </tr>\n",
              "    <tr>\n",
              "      <th>94</th>\n",
              "      <td>94</td>\n",
              "      <td>MAP(FASTBRISK)(65)(0.50)</td>\n",
              "      <td>604.030303</td>\n",
              "      <td>BRISK+FREAK</td>\n",
              "      <td>14.000000</td>\n",
              "      <td>0.023178</td>\n",
              "      <td>0.976822</td>\n",
              "      <td>0.023178</td>\n",
              "      <td>C</td>\n",
              "      <td>BRISK:Threshl=75;Octaves=8</td>\n",
              "    </tr>\n",
              "    <tr>\n",
              "      <th>95</th>\n",
              "      <td>95</td>\n",
              "      <td>MAP(FASTBRISK)(65)(0.50)</td>\n",
              "      <td>673.636364</td>\n",
              "      <td>BRISK+FREAK</td>\n",
              "      <td>14.989899</td>\n",
              "      <td>0.022252</td>\n",
              "      <td>0.977748</td>\n",
              "      <td>0.022252</td>\n",
              "      <td>C</td>\n",
              "      <td>BRISK:Threshl=75;Octaves=8</td>\n",
              "    </tr>\n",
              "    <tr>\n",
              "      <th>96</th>\n",
              "      <td>96</td>\n",
              "      <td>MAP(FASTBRISK)(65)(0.50)</td>\n",
              "      <td>759.585859</td>\n",
              "      <td>BRISK+FREAK</td>\n",
              "      <td>15.343434</td>\n",
              "      <td>0.020200</td>\n",
              "      <td>0.979800</td>\n",
              "      <td>0.020200</td>\n",
              "      <td>C</td>\n",
              "      <td>BRISK:Threshl=75;Octaves=8</td>\n",
              "    </tr>\n",
              "    <tr>\n",
              "      <th>97</th>\n",
              "      <td>97</td>\n",
              "      <td>MAP(FASTBRISK)(65)(0.50)</td>\n",
              "      <td>799.707071</td>\n",
              "      <td>BRISK+FREAK</td>\n",
              "      <td>17.686869</td>\n",
              "      <td>0.022117</td>\n",
              "      <td>0.977883</td>\n",
              "      <td>0.022117</td>\n",
              "      <td>C</td>\n",
              "      <td>BRISK:Threshl=75;Octaves=8</td>\n",
              "    </tr>\n",
              "    <tr>\n",
              "      <th>98</th>\n",
              "      <td>98</td>\n",
              "      <td>MAP(FASTBRISK)(65)(0.50)</td>\n",
              "      <td>953.252525</td>\n",
              "      <td>BRISK+FREAK</td>\n",
              "      <td>18.373737</td>\n",
              "      <td>0.019275</td>\n",
              "      <td>0.980725</td>\n",
              "      <td>0.019275</td>\n",
              "      <td>C</td>\n",
              "      <td>BRISK:Threshl=75;Octaves=8</td>\n",
              "    </tr>\n",
              "  </tbody>\n",
              "</table>\n",
              "<p>297 rows × 10 columns</p>\n",
              "</div>"
            ],
            "text/plain": [
              "    Unnamed: 0  ...                   Parameter\n",
              "0            0  ...  BRISK:Threshl=45;Octaves=8\n",
              "1            1  ...  BRISK:Threshl=45;Octaves=8\n",
              "2            2  ...  BRISK:Threshl=45;Octaves=8\n",
              "3            3  ...  BRISK:Threshl=45;Octaves=8\n",
              "4            4  ...  BRISK:Threshl=45;Octaves=8\n",
              "..         ...  ...                         ...\n",
              "94          94  ...  BRISK:Threshl=75;Octaves=8\n",
              "95          95  ...  BRISK:Threshl=75;Octaves=8\n",
              "96          96  ...  BRISK:Threshl=75;Octaves=8\n",
              "97          97  ...  BRISK:Threshl=75;Octaves=8\n",
              "98          98  ...  BRISK:Threshl=75;Octaves=8\n",
              "\n",
              "[297 rows x 10 columns]"
            ]
          },
          "metadata": {},
          "execution_count": 110
        }
      ]
    },
    {
      "cell_type": "code",
      "metadata": {
        "colab": {
          "base_uri": "https://localhost:8080/",
          "height": 616
        },
        "id": "J4dZ-5yOT8yC",
        "outputId": "0e98cfdb-2d83-4360-ef0b-d451b1950e73"
      },
      "source": [
        "import seaborn as sns\n",
        "sns.set_theme(style='whitegrid')\n",
        "\n",
        "\n",
        "# Draw a nested barplot by species and sex\n",
        "g = sns.catplot(\n",
        "    data=df_match, kind=\"bar\",\n",
        "    x=\"ParameterName\", y=\"F-Score\", hue=\"Parameter\" ,\n",
        "    ci=\"sd\", palette=\"Spectral\", alpha=.9, height=8, aspect=0.9\n",
        ")\n",
        "g.despine(left=True)\n",
        "g.set_axis_labels(\"Parameter Combinations \", \"F-Score\")\n",
        "g.legend.set_title(\"Parameter Combinations Thresholds\")\n",
        "g.fig.suptitle(\"F-Score for BRISK Industrial 0.50 for different parameter combinations\")"
      ],
      "execution_count": null,
      "outputs": [
        {
          "output_type": "execute_result",
          "data": {
            "text/plain": [
              "Text(0.5, 0.98, 'F-Score for BRISK MAP 0.50 for different parameter combinations')"
            ]
          },
          "metadata": {},
          "execution_count": 119
        },
        {
          "output_type": "display_data",
          "data": {
            "image/png": "[encoded data removed]",
            "text/plain": [
              "<Figure size 723.125x576 with 1 Axes>"
            ]
          },
          "metadata": {}
        }
      ]
    },
    {
      "cell_type": "code",
      "metadata": {
        "id": "FNRD_jIImisZ"
      },
      "source": [
        "g.savefig('F-Score(Industrial BRISK)(0.50).png')"
      ],
      "execution_count": null,
      "outputs": []
    }
  ]
}